{
 "cells": [
  {
   "cell_type": "code",
   "execution_count": 3,
   "metadata": {},
   "outputs": [
    {
     "name": "stderr",
     "output_type": "stream",
     "text": [
      "C:\\Users\\Andy\\AppData\\Local\\Temp\\ipykernel_1988\\1589255801.py:7: DtypeWarning: Columns (15) have mixed types. Specify dtype option on import or set low_memory=False.\n",
      "  df = pd.read_csv('data/311_illegal_parking_complaints_2021.csv')\n",
      "Summarize dataset: 100%|██████████| 91/91 [03:13<00:00,  2.12s/it, Completed]                                                 \n",
      "Generate report structure: 100%|██████████| 1/1 [00:31<00:00, 31.79s/it]\n",
      "Render HTML: 100%|██████████| 1/1 [00:04<00:00,  4.20s/it]\n",
      "Export report to file: 100%|██████████| 1/1 [00:00<00:00, 31.25it/s]\n",
      "Summarize dataset: 100%|██████████| 91/91 [04:33<00:00,  3.00s/it, Completed]                                                 \n",
      "Generate report structure: 100%|██████████| 1/1 [00:29<00:00, 29.02s/it]\n",
      "Render HTML: 100%|██████████| 1/1 [00:04<00:00,  4.35s/it]\n",
      "Export report to file: 100%|██████████| 1/1 [00:00<00:00, 28.57it/s]\n",
      "C:\\Users\\Andy\\AppData\\Local\\Temp\\ipykernel_1988\\1589255801.py:17: DtypeWarning: Columns (32) have mixed types. Specify dtype option on import or set low_memory=False.\n",
      "  df = pd.read_csv('data/311_illegal_parking_complaints_2023.csv')\n",
      "Summarize dataset: 100%|██████████| 92/92 [04:16<00:00,  2.79s/it, Completed]                                                 \n",
      "Generate report structure: 100%|██████████| 1/1 [00:45<00:00, 45.07s/it]\n",
      "Render HTML: 100%|██████████| 1/1 [00:05<00:00,  5.67s/it]\n",
      "Export report to file: 100%|██████████| 1/1 [00:00<00:00, 21.28it/s]\n",
      "Summarize dataset: 100%|██████████| 64/64 [04:24<00:00,  4.13s/it, Completed]                                 \n",
      "Generate report structure: 100%|██████████| 1/1 [00:23<00:00, 23.12s/it]\n",
      "Render HTML: 100%|██████████| 1/1 [00:03<00:00,  3.61s/it]\n",
      "Export report to file: 100%|██████████| 1/1 [00:00<00:00, 19.23it/s]\n",
      "Summarize dataset: 100%|██████████| 64/64 [04:22<00:00,  4.10s/it, Completed]                                 \n",
      "Generate report structure: 100%|██████████| 1/1 [00:18<00:00, 18.22s/it]\n",
      "Render HTML: 100%|██████████| 1/1 [00:02<00:00,  2.51s/it]\n",
      "Export report to file: 100%|██████████| 1/1 [00:00<00:00, 40.02it/s]\n",
      "Summarize dataset: 100%|██████████| 64/64 [06:21<00:00,  5.96s/it, Completed]                                 \n",
      "Generate report structure: 100%|██████████| 1/1 [00:30<00:00, 30.13s/it]\n",
      "Render HTML: 100%|██████████| 1/1 [00:04<00:00,  4.65s/it]\n",
      "Export report to file: 100%|██████████| 1/1 [00:00<00:00, 21.65it/s]\n"
     ]
    }
   ],
   "source": [
    "# Data profiling for 311 and Open Parking\n",
    "# These generate data profiling reports for each dataset's each year's data\n",
    "\n",
    "from ydata_profiling import ProfileReport\n",
    "import pandas as pd\n",
    "\n",
    "df = pd.read_csv('data/311_illegal_parking_complaints_2021.csv')\n",
    "data_report = ProfileReport(df)\n",
    "data_report.to_file('311_2021_data_report.html')\n",
    "\n",
    "\n",
    "df = pd.read_csv('data/311_illegal_parking_complaints_2022.csv')\n",
    "data_report = ProfileReport(df)\n",
    "data_report.to_file('311_2022_data_report.html')\n",
    "\n",
    "\n",
    "df = pd.read_csv('data/311_illegal_parking_complaints_2023.csv')\n",
    "data_report = ProfileReport(df)\n",
    "data_report.to_file('311_2023_data_report.html')\n",
    "\n",
    "\n",
    "df = pd.read_csv('data/open_parking_violations_2021.csv')\n",
    "data_report = ProfileReport(df)\n",
    "data_report.to_file('open_parking_2021_data_report.html')\n",
    "\n",
    "\n",
    "df = pd.read_csv('data/open_parking_violations_2022.csv')\n",
    "data_report = ProfileReport(df)\n",
    "data_report.to_file('open_parking_2022_data_report.html')\n",
    "\n",
    "\n",
    "df = pd.read_csv('data/open_parking_violations_2023.csv')\n",
    "data_report = ProfileReport(df)\n",
    "data_report.to_file('open_parking_2023_data_report.html')\n"
   ]
  },
  {
   "cell_type": "code",
   "execution_count": null,
   "metadata": {},
   "outputs": [],
   "source": []
  }
 ],
 "metadata": {
  "kernelspec": {
   "display_name": "venv",
   "language": "python",
   "name": "python3"
  },
  "language_info": {
   "codemirror_mode": {
    "name": "ipython",
    "version": 3
   },
   "file_extension": ".py",
   "mimetype": "text/x-python",
   "name": "python",
   "nbconvert_exporter": "python",
   "pygments_lexer": "ipython3",
   "version": "3.10.5"
  }
 },
 "nbformat": 4,
 "nbformat_minor": 2
}
