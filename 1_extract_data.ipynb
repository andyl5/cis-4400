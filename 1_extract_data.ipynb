{
 "cells": [
  {
   "cell_type": "code",
   "execution_count": null,
   "metadata": {},
   "outputs": [],
   "source": [
    "import pandas as pd\n",
    "from sodapy import Socrata\n",
    "from dotenv import load_dotenv\n",
    "import os\n",
    "load_dotenv()\n",
    "data_url = 'data.cityofnewyork.us'\n",
    "app_token = os.getenv('APP_TOKEN')\n",
    "client = Socrata(data_url, app_token)\n",
    "client.timeout = 600\n",
    "\n",
    "# 311 dataset\n",
    "for year in range(2021, 2024):\n",
    "    start = 0\n",
    "    chunk_size = 2000\n",
    "    results = []\n",
    "    where_clause = f\"complaint_type = 'Illegal Parking' AND date_extract_y(created_date)={year}\"\n",
    "    data_set = 'erm2-nwe9'\n",
    "    record_count = client.get(data_set, where=where_clause, select='COUNT(*)')\n",
    "    print(f'Fetching Illegal Parking complaints data...')\n",
    "    while True:\n",
    "        results.extend(client.get(data_set, where=where_clause, offset=start, limit=chunk_size))\n",
    "        start += chunk_size\n",
    "        if (start > int(record_count[0]['COUNT'])):\n",
    "            break        \n",
    "    df = pd.DataFrame.from_records(results)\n",
    "    if year == 2023:\n",
    "        df.drop('vehicle_type', axis=1, inplace=True)\n",
    "    df.to_csv(f'data/311_illegal_parking_complaints_{year}.csv', index=False)\n",
    "\n",
    "# Open Parking dataset\n",
    "for year in range(2021, 2024):\n",
    "    results = []\n",
    "    where_clause = f\"violation LIKE '%PARKING%' AND (issue_date LIKE '%{year}')\"\n",
    "    data_set = 'nc67-uf89'\n",
    "    print(f'Fetching Open Parking violations data...')\n",
    "    results.extend(client.get(data_set, where=where_clause, offset=start, limit=1000000))\n",
    "    df = pd.DataFrame.from_records(results)\n",
    "    # Remove interest_amount since it is creating a bug when importing to BigQuery\n",
    "    df = df.drop(['interest_amount'], axis=1)\n",
    "    df.to_csv(f'data/open_parking_violations_{year}.csv', index=False)"
   ]
  },
  {
   "cell_type": "code",
   "execution_count": null,
   "metadata": {},
   "outputs": [],
   "source": [
    "# Get master file for 311 dataset\n",
    "df1 = pd.read_csv('data/311_illegal_parking_complaints_2021.csv')\n",
    "df2 = pd.read_csv('data/311_illegal_parking_complaints_2022.csv')\n",
    "df3 = pd.read_csv('data/311_illegal_parking_complaints_2023.csv')\n",
    "merged_df = pd.concat([df1, df2, df3], ignore_index=True)\n",
    "merged_df.to_csv('311_master.csv', index=False)\n",
    "\n",
    "# Get master file for Open Parking dataset\n",
    "df1 = pd.read_csv('data/open_parking_violations_2021.csv')\n",
    "df2 = pd.read_csv('data/open_parking_violations_2022.csv')\n",
    "df3 = pd.read_csv('data/open_parking_violations_2023.csv')\n",
    "merged_df = pd.concat([df1, df2, df3], ignore_index=True)\n",
    "merged_df.to_csv('open_parking_master.csv', index=False)"
   ]
  }
 ],
 "metadata": {
  "language_info": {
   "name": "python"
  }
 },
 "nbformat": 4,
 "nbformat_minor": 2
}
