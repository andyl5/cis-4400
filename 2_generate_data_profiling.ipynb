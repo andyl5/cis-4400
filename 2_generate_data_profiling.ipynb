{
 "cells": [
  {
   "cell_type": "code",
   "execution_count": 6,
   "metadata": {},
   "outputs": [],
   "source": [
    "import pandas as pd\n",
    "from ydata_profiling import ProfileReport\n",
    "\n",
    "# Data profiling for 311 and Open Parking\n",
    "# Generate data profiling report for 311 and Open Parking\n",
    "df = pd.read_csv('311_master.csv')\n",
    "data_report = ProfileReport(df)\n",
    "data_report.to_file('311_master_data_report.html')\n",
    "\n",
    "df = pd.read_csv('open_parking_master.csv')\n",
    "data_report = ProfileReport(df)\n",
    "data_report.to_file('open_parking_master_data_report.html')"
   ]
  }
 ],
 "metadata": {
  "kernelspec": {
   "display_name": "venv",
   "language": "python",
   "name": "python3"
  },
  "language_info": {
   "codemirror_mode": {
    "name": "ipython",
    "version": 3
   },
   "file_extension": ".py",
   "mimetype": "text/x-python",
   "name": "python",
   "nbconvert_exporter": "python",
   "pygments_lexer": "ipython3",
   "version": "3.10.5"
  }
 },
 "nbformat": 4,
 "nbformat_minor": 2
}
