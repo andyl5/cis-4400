{
 "cells": [
  {
   "cell_type": "code",
   "execution_count": 6,
   "metadata": {},
   "outputs": [],
   "source": [
    "from ydata_profiling import ProfileReport\n",
    "import pandas as pd"
   ]
  },
  {
   "cell_type": "code",
   "execution_count": 7,
   "metadata": {},
   "outputs": [
    {
     "name": "stderr",
     "output_type": "stream",
     "text": [
      "C:\\Users\\andyy\\AppData\\Local\\Temp\\ipykernel_29344\\2476392139.py:1: DtypeWarning: Columns (15) have mixed types. Specify dtype option on import or set low_memory=False.\n",
      "  df1 = pd.read_csv('data/311_illegal_parking_complaints_2021.csv')\n"
     ]
    }
   ],
   "source": [
    "# Get master file for 311 dataset\n",
    "df1 = pd.read_csv('data/311_illegal_parking_complaints_2021.csv')\n",
    "df2 = pd.read_csv('data/311_illegal_parking_complaints_2022.csv')\n",
    "df3 = pd.read_csv('data/311_illegal_parking_complaints_2023.csv')\n",
    "merged_df = pd.concat([df1, df2, df3], ignore_index=True)\n",
    "merged_df.to_csv('311_master.csv', index=False)\n",
    "\n",
    "# Get master file for Open Parking dataset\n",
    "df1 = pd.read_csv('data/open_parking_violations_2021.csv')\n",
    "df2 = pd.read_csv('data/open_parking_violations_2022.csv')\n",
    "df3 = pd.read_csv('data/open_parking_violations_2023.csv')\n",
    "merged_df = pd.concat([df1, df2, df3], ignore_index=True)\n",
    "merged_df.to_csv('open_parking_master.csv', index=False)"
   ]
  },
  {
   "cell_type": "code",
   "execution_count": 8,
   "metadata": {},
   "outputs": [
    {
     "name": "stderr",
     "output_type": "stream",
     "text": [
      "Summarize dataset: 100%|██████████| 91/91 [11:08<00:00,  7.35s/it, Completed]                                                 \n",
      "Generate report structure: 100%|██████████| 1/1 [00:22<00:00, 22.49s/it]\n",
      "Render HTML: 100%|██████████| 1/1 [00:03<00:00,  3.79s/it]\n",
      "Export report to file: 100%|██████████| 1/1 [00:00<00:00, 44.51it/s]\n",
      "Summarize dataset: 100%|██████████| 64/64 [08:27<00:00,  7.93s/it, Completed]                                 \n",
      "Generate report structure: 100%|██████████| 1/1 [00:17<00:00, 17.68s/it]\n",
      "Render HTML: 100%|██████████| 1/1 [00:02<00:00,  2.52s/it]\n",
      "Export report to file: 100%|██████████| 1/1 [00:00<00:00, 36.46it/s]\n"
     ]
    }
   ],
   "source": [
    "# # Data profiling for 311 and Open Parking\n",
    "# # Generate data profiling report for 311 and Open Parking\n",
    "\n",
    "# df = pd.read_csv('311_master.csv')\n",
    "# data_report = ProfileReport(df)\n",
    "# data_report.to_file('311_master_data_report.html')\n",
    "\n",
    "# df = pd.read_csv('open_parking_master.csv')\n",
    "# data_report = ProfileReport(df)\n",
    "# data_report.to_file('open_parking_master_data_report.html')"
   ]
  },
  {
   "cell_type": "code",
   "execution_count": null,
   "metadata": {},
   "outputs": [],
   "source": []
  }
 ],
 "metadata": {
  "kernelspec": {
   "display_name": "venv",
   "language": "python",
   "name": "python3"
  },
  "language_info": {
   "codemirror_mode": {
    "name": "ipython",
    "version": 3
   },
   "file_extension": ".py",
   "mimetype": "text/x-python",
   "name": "python",
   "nbconvert_exporter": "python",
   "pygments_lexer": "ipython3",
   "version": "3.10.5"
  }
 },
 "nbformat": 4,
 "nbformat_minor": 2
}
